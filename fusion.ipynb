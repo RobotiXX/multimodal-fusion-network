{
 "cells": [
  {
   "cell_type": "code",
   "execution_count": 1,
   "metadata": {
    "collapsed": true,
    "pycharm": {
     "name": "#%%\n"
    }
   },
   "outputs": [],
   "source": [
    "import numpy\n",
    "import tensorflow as tf"
   ]
  },
  {
   "cell_type": "code",
   "execution_count": 2,
   "outputs": [],
   "source": [
    "class FusionNet(tf.keras.Model):\n",
    "    def __int__(self, c1, c2, c3, c4, num_classes, num_pointts):\n",
    "        super().__init__()\n",
    "        same_padding = 'SAME'\n",
    "\n",
    "        initialize_kernel = tf.keras.initializers.VarianceScaling(scale=2.0)\n",
    "        initialize_bias = tf.zeros_initializer()\n",
    "        relu = tf.nn.relu\n",
    "\n",
    "        #VGG-16\n",
    "        self.conv1 =  tf.keras.layers.Conv2D(c1, kernel_size=(3,3),strides=(1,1), padding=same_padding, activation=relu, use_bias=True,\n",
    "                                             kernel_initializer=initialize_kernel, bias_initializer=initialize_bias)\n",
    "\n",
    "        self.conv2 =  tf.keras.layers.Conv2D(c1, kernel_size=(3,3),strides=(1,1), padding=same_padding, activation=relu, use_bias=True,\n",
    "                                             kernel_initializer=initialize_kernel, bias_initializer=initialize_bias)\n",
    "\n",
    "        self.mx_pool1 = tf.keras.layers.MaxPool2D(pool_size=(2,2), strides=(2,2), padding=same_padding)\n",
    "\n",
    "        self.conv3 =  tf.keras.layers.Conv2D(c2, kernel_size=(3,3),strides=(1,1), padding=same_padding, activation=relu, use_bias=True,\n",
    "                                             kernel_initializer=initialize_kernel, bias_initializer=initialize_bias)\n",
    "\n",
    "        self.conv4 =  tf.keras.layers.Conv2D(c2, kernel_size=(3,3),strides=(1,1), padding=same_padding, activation=relu, use_bias=True,\n",
    "                                             kernel_initializer=initialize_kernel, bias_initializer=initialize_bias)\n",
    "\n",
    "        self.mx_pool2 = tf.keras.layers.MaxPool2D(pool_size=(2,2), strides=(2,2), padding=same_padding)\n",
    "\n",
    "        self.conv5 =  tf.keras.layers.Conv2D(c3, kernel_size=(3,3),strides=(1,1), padding=same_padding, activation=relu, use_bias=True,\n",
    "                                             kernel_initializer=initialize_kernel, bias_initializer=initialize_bias)\n",
    "\n",
    "        self.conv6 =  tf.keras.layers.Conv2D(c3, kernel_size=(3,3),strides=(1,1), padding=same_padding, activation=relu, use_bias=True,\n",
    "                                             kernel_initializer=initialize_kernel, bias_initializer=initialize_bias)\n",
    "\n",
    "        self.conv7 =  tf.keras.layers.Conv2D(c3, kernel_size=(3,3),strides=(1,1), padding=same_padding, activation=relu, use_bias=True,\n",
    "                                             kernel_initializer=initialize_kernel, bias_initializer=initialize_bias)\n",
    "\n",
    "        self.mx_pool3 = tf.keras.layers.MaxPool2D(pool_size=(2,2), strides=(2,2), padding=same_padding)\n",
    "\n",
    "        self.conv8 =  tf.keras.layers.Conv2D(c4, kernel_size=(3,3),strides=(1,1), padding=same_padding, activation=relu, use_bias=True,\n",
    "                                             kernel_initializer=initialize_kernel, bias_initializer=initialize_bias)\n",
    "\n",
    "        self.conv9 =  tf.keras.layers.Conv2D(c4, kernel_size=(3,3),strides=(1,1), padding=same_padding, activation=relu, use_bias=True,\n",
    "                                             kernel_initializer=initialize_kernel, bias_initializer=initialize_bias)\n",
    "\n",
    "        self.conv10 =  tf.keras.layers.Conv2D(c4, kernel_size=(3,3),strides=(1,1), padding=same_padding, activation=relu, use_bias=True,\n",
    "                                              kernel_initializer=initialize_kernel, bias_initializer=initialize_bias)\n",
    "\n",
    "        self.mx_pool4 = tf.keras.layers.MaxPool2D(pool_size=(2,2), strides=(2,2), padding=same_padding)\n",
    "\n",
    "        self.conv11 =  tf.keras.layers.Conv2D(c4, kernel_size=(3,3),strides=(1,1), padding=same_padding, activation=relu, use_bias=True,\n",
    "                                              kernel_initializer=initialize_kernel, bias_initializer=initialize_bias)\n",
    "\n",
    "        self.conv12 =  tf.keras.layers.Conv2D(c4, kernel_size=(3,3),strides=(1,1), padding=same_padding, activation=relu, use_bias=True,\n",
    "                                              kernel_initializer=initialize_kernel, bias_initializer=initialize_bias)\n",
    "\n",
    "        self.conv13 =  tf.keras.layers.Conv2D(c4, kernel_size=(3,3),strides=(1,1), padding=same_padding, activation=relu, use_bias=True,\n",
    "                                              kernel_initializer=initialize_kernel, bias_initializer=initialize_bias)\n",
    "\n",
    "        self.mx_pool5 = tf.keras.layers.MaxPool2D(pool_size=(2,2), strides=(2,2), padding=same_padding)\n",
    "\n",
    "\n",
    "        #PointNet (w/o feature transform)\n",
    "        self.pn_conv1 = tf.keras.layers.Conv2D(64, kernel_size=(1,3), strides=(1,1), padding=same_padding,\n",
    "                                               activation=relu, use_bias=True,\n",
    "                                               kernel_initializer=initialize_kernel,\n",
    "                                               bias_initializer=initialize_bias)\n",
    "\n",
    "        self.pn_conv2 = tf.keras.layers.Conv2D(64, kernel_size=(1,1), strides=(1,1), padding=same_padding,\n",
    "                                               activation=relu, use_bias=True,\n",
    "                                               kernel_initializer=initialize_kernel,\n",
    "                                               bias_initializer=initialize_bias)\n",
    "\n",
    "        self.pn_conv3 = tf.keras.layers.Conv2D(64, kernel_size=(1,1), strides=(1,1), padding=same_padding,\n",
    "                                               activation=relu, use_bias=True,\n",
    "                                               kernel_initializer=initialize_kernel,\n",
    "                                               bias_initializer=initialize_bias)\n",
    "\n",
    "        self.pn_conv4 = tf.keras.layers.Conv2D(128, kernel_size=(1,1), strides=(1,1), padding=same_padding,\n",
    "                                               activation=relu, use_bias=True,\n",
    "                                               kernel_initializer=initialize_kernel,\n",
    "                                               bias_initializer=initialize_bias)\n",
    "\n",
    "        self.pn_conv5 = tf.keras.layers.Conv2D(256, kernel_size=(1,1), strides=(1,1), padding=same_padding,\n",
    "                                               activation=relu, use_bias=True,\n",
    "                                               kernel_initializer=initialize_kernel,\n",
    "                                               bias_initializer=initialize_bias)\n",
    "\n",
    "        self.mx_pool_pn = tf.keras.layers.MaxPool2D(pool_size=(num_classes,1), strides=(num_classes,1),padding=same_padding)\n",
    "\n",
    "\n",
    "\n",
    "\n",
    "\n",
    "\n",
    "\n",
    "\n"
   ],
   "metadata": {
    "collapsed": false,
    "pycharm": {
     "name": "#%%\n"
    }
   }
  }
 ],
 "metadata": {
  "kernelspec": {
   "display_name": "Python 3",
   "language": "python",
   "name": "python3"
  },
  "language_info": {
   "codemirror_mode": {
    "name": "ipython",
    "version": 2
   },
   "file_extension": ".py",
   "mimetype": "text/x-python",
   "name": "python",
   "nbconvert_exporter": "python",
   "pygments_lexer": "ipython2",
   "version": "2.7.6"
  }
 },
 "nbformat": 4,
 "nbformat_minor": 0
}