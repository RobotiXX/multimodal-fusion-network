{
 "cells": [
  {
   "cell_type": "code",
   "execution_count": 1,
   "metadata": {
    "collapsed": true,
    "pycharm": {
     "name": "#%%\n"
    }
   },
   "outputs": [],
   "source": [
    "import rosbag\n",
    "import  numpy as np\n",
    "import sensor_msgs.point_cloud2 as pc2\n",
    "import cv2\n",
    "import time"
   ]
  },
  {
   "cell_type": "code",
   "execution_count": 2,
   "outputs": [],
   "source": [
    "bag = rosbag.Bag('../135970')"
   ],
   "metadata": {
    "collapsed": false,
    "pycharm": {
     "name": "#%%\n"
    }
   }
  },
  {
   "cell_type": "code",
   "execution_count": null,
   "outputs": [],
   "source": [
    "point_cloud = []\n",
    "def convert_pc_msg_to_np(message, t):\n",
    "    for point in pc2.read_points(message, skip_nans=True):\n",
    "            pt_x = point[0]\n",
    "            pt_y = point[1]\n",
    "            pt_z = point[2]\n",
    "            point_cloud.append([pt_x,pt_y,pt_z])"
   ],
   "metadata": {
    "collapsed": false,
    "pycharm": {
     "name": "#%%\n"
    }
   }
  },
  {
   "cell_type": "code",
   "execution_count": 3,
   "outputs": [
    {
     "ename": "NameError",
     "evalue": "name 'convert_pc_msg_to_np' is not defined",
     "output_type": "error",
     "traceback": [
      "\u001B[0;31m---------------------------------------------------------------------------\u001B[0m",
      "\u001B[0;31mNameError\u001B[0m                                 Traceback (most recent call last)",
      "Cell \u001B[0;32mIn [3], line 4\u001B[0m\n\u001B[1;32m      2\u001B[0m \u001B[38;5;28;01mfor\u001B[39;00m topic, msg, t \u001B[38;5;129;01min\u001B[39;00m bag\u001B[38;5;241m.\u001B[39mread_messages(topics\u001B[38;5;241m=\u001B[39m[\u001B[38;5;124m'\u001B[39m\u001B[38;5;124m/velodyne_points\u001B[39m\u001B[38;5;124m'\u001B[39m]):\n\u001B[1;32m      3\u001B[0m     counter \u001B[38;5;241m+\u001B[39m\u001B[38;5;241m=\u001B[39m \u001B[38;5;241m1\u001B[39m\n\u001B[0;32m----> 4\u001B[0m     convert_pc_msg_to_np(msg, t)\n\u001B[1;32m      5\u001B[0m     \u001B[38;5;28mprint\u001B[39m(\u001B[38;5;124m'\u001B[39m\u001B[38;5;124mpoint: \u001B[39m\u001B[38;5;124m'\u001B[39m, counter)\n",
      "\u001B[0;31mNameError\u001B[0m: name 'convert_pc_msg_to_np' is not defined"
     ]
    }
   ],
   "source": [
    "counter = 0\n",
    "for topic, msg, t in bag.read_messages(topics=['/velodyne_points']):\n",
    "    counter += 1\n",
    "    convert_pc_msg_to_np(msg, t)\n",
    "    print('point: ', counter)"
   ],
   "metadata": {
    "collapsed": false,
    "pycharm": {
     "name": "#%%\n"
    }
   }
  },
  {
   "cell_type": "code",
   "execution_count": null,
   "outputs": [],
   "source": [],
   "metadata": {
    "collapsed": false,
    "pycharm": {
     "name": "#%%\n"
    }
   }
  }
 ],
 "metadata": {
  "kernelspec": {
   "display_name": "Python 3",
   "language": "python",
   "name": "python3"
  },
  "language_info": {
   "codemirror_mode": {
    "name": "ipython",
    "version": 2
   },
   "file_extension": ".py",
   "mimetype": "text/x-python",
   "name": "python",
   "nbconvert_exporter": "python",
   "pygments_lexer": "ipython2",
   "version": "2.7.6"
  }
 },
 "nbformat": 4,
 "nbformat_minor": 0
}