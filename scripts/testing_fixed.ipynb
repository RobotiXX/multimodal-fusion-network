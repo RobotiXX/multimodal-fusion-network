{
 "cells": [
  {
   "cell_type": "code",
   "execution_count": 2,
   "metadata": {},
   "outputs": [],
   "source": [
    "import pickle\n",
    "import numpy as np\n",
    "import cv2\n",
    "import matplotlib.pyplot as plt\n",
    "import torch\n",
    "import logging"
   ]
  },
  {
   "cell_type": "code",
   "execution_count": null,
   "metadata": {},
   "outputs": [],
   "source": [
    "\n",
    "pickle_path = '../recorded-data/train/135968/snapshot.pickle'\n",
    "with open(pickle_path, 'rb') as data:\n",
    "        content = pickle.load(data)\n",
    "        print(int(len(content.keys()) / 4))"
   ]
  },
  {
   "cell_type": "code",
   "execution_count": 1,
   "metadata": {},
   "outputs": [
    {
     "name": "stderr",
     "output_type": "stream",
     "text": [
      "2023-07-17 22:21:43 robotixx-s1 root[87392] INFO Parsing pickle file...\n"
     ]
    },
    {
     "ename": "FileNotFoundError",
     "evalue": "[Errno 2] No such file or directory: '/Users/bhabaranjanpanigrahi/Research/Code/fusion-network/recorded-data/136021.bag/snapshot.pickle'",
     "output_type": "error",
     "traceback": [
      "\u001b[0;31m---------------------------------------------------------------------------\u001b[0m",
      "\u001b[0;31mFileNotFoundError\u001b[0m                         Traceback (most recent call last)",
      "Cell \u001b[0;32mIn[1], line 69\u001b[0m\n\u001b[1;32m     63\u001b[0m             point_clouds\u001b[39m.\u001b[39mappend(filtered_points[\u001b[39m0\u001b[39m:\u001b[39m15000\u001b[39m])          \n\u001b[1;32m     65\u001b[0m         \u001b[39mreturn\u001b[39;00m (image_paths, point_clouds, local_goal, prev_cmd_vel, robot_position, gt_cmd_vel)\n\u001b[0;32m---> 69\u001b[0m indexer \u001b[39m=\u001b[39m IndexDataset(\u001b[39m'\u001b[39;49m\u001b[39m/Users/bhabaranjanpanigrahi/Research/Code/fusion-network/recorded-data/136021.bag\u001b[39;49m\u001b[39m'\u001b[39;49m)\n\u001b[1;32m     70\u001b[0m \u001b[39m# print(object.__len__())\u001b[39;00m\n",
      "Cell \u001b[0;32mIn[1], line 16\u001b[0m, in \u001b[0;36mIndexDataset.__init__\u001b[0;34m(self, dir_path)\u001b[0m\n\u001b[1;32m     12\u001b[0m \u001b[39mself\u001b[39m\u001b[39m.\u001b[39mpickle_path \u001b[39m=\u001b[39m os\u001b[39m.\u001b[39mpath\u001b[39m.\u001b[39mjoin(dir_path , \u001b[39m'\u001b[39m\u001b[39msnapshot.pickle\u001b[39m\u001b[39m'\u001b[39m)        \n\u001b[1;32m     14\u001b[0m logging\u001b[39m.\u001b[39minfo(\u001b[39m'\u001b[39m\u001b[39mParsing pickle file...\u001b[39m\u001b[39m'\u001b[39m)\n\u001b[0;32m---> 16\u001b[0m \u001b[39mwith\u001b[39;00m \u001b[39mopen\u001b[39;49m(\u001b[39mself\u001b[39;49m\u001b[39m.\u001b[39;49mpickle_path, \u001b[39m'\u001b[39;49m\u001b[39mrb\u001b[39;49m\u001b[39m'\u001b[39;49m) \u001b[39mas\u001b[39;00m data:\n\u001b[1;32m     17\u001b[0m     \u001b[39mself\u001b[39m\u001b[39m.\u001b[39mcontent \u001b[39m=\u001b[39m pickle\u001b[39m.\u001b[39mload(data)\n\u001b[1;32m     19\u001b[0m logging\u001b[39m.\u001b[39minfo(\u001b[39m'\u001b[39m\u001b[39mPicklefile loaded\u001b[39m\u001b[39m'\u001b[39m)\n",
      "File \u001b[0;32m~/anaconda3/envs/mlp/lib/python3.10/site-packages/IPython/core/interactiveshell.py:284\u001b[0m, in \u001b[0;36m_modified_open\u001b[0;34m(file, *args, **kwargs)\u001b[0m\n\u001b[1;32m    277\u001b[0m \u001b[39mif\u001b[39;00m file \u001b[39min\u001b[39;00m {\u001b[39m0\u001b[39m, \u001b[39m1\u001b[39m, \u001b[39m2\u001b[39m}:\n\u001b[1;32m    278\u001b[0m     \u001b[39mraise\u001b[39;00m \u001b[39mValueError\u001b[39;00m(\n\u001b[1;32m    279\u001b[0m         \u001b[39mf\u001b[39m\u001b[39m\"\u001b[39m\u001b[39mIPython won\u001b[39m\u001b[39m'\u001b[39m\u001b[39mt let you open fd=\u001b[39m\u001b[39m{\u001b[39;00mfile\u001b[39m}\u001b[39;00m\u001b[39m by default \u001b[39m\u001b[39m\"\u001b[39m\n\u001b[1;32m    280\u001b[0m         \u001b[39m\"\u001b[39m\u001b[39mas it is likely to crash IPython. If you know what you are doing, \u001b[39m\u001b[39m\"\u001b[39m\n\u001b[1;32m    281\u001b[0m         \u001b[39m\"\u001b[39m\u001b[39myou can use builtins\u001b[39m\u001b[39m'\u001b[39m\u001b[39m open.\u001b[39m\u001b[39m\"\u001b[39m\n\u001b[1;32m    282\u001b[0m     )\n\u001b[0;32m--> 284\u001b[0m \u001b[39mreturn\u001b[39;00m io_open(file, \u001b[39m*\u001b[39;49margs, \u001b[39m*\u001b[39;49m\u001b[39m*\u001b[39;49mkwargs)\n",
      "\u001b[0;31mFileNotFoundError\u001b[0m: [Errno 2] No such file or directory: '/Users/bhabaranjanpanigrahi/Research/Code/fusion-network/recorded-data/136021.bag/snapshot.pickle'"
     ]
    }
   ],
   "source": [
    "import pickle\n",
    "import coloredlogs, logging\n",
    "import os\n",
    "\n",
    "from torch.utils.data import Dataset\n",
    "coloredlogs.install()\n",
    "\n",
    "class IndexDataset:\n",
    "\n",
    "    def __init__(self, dir_path):        \n",
    "        self.root_path = dir_path\n",
    "        self.pickle_path = os.path.join(dir_path , 'snapshot.pickle')        \n",
    "        \n",
    "        logging.info('Parsing pickle file...')\n",
    "    \n",
    "        with open(self.pickle_path, 'rb') as data:\n",
    "            self.content = pickle.load(data)\n",
    "\n",
    "        logging.info('Picklefile loaded')\n",
    "\n",
    "        # Exclude keys that does not have a local goal [as the robot did not travel 10 meters]\n",
    "        keys = list(self.content.keys())\n",
    "        for key in keys:\n",
    "            if 'local_goal' not in self.content[key].keys():\n",
    "                self.content.pop(key)\n",
    "\n",
    "    def __len__(self):\n",
    "        # Excluding last 2 minutes of recording may not have local_goal\n",
    "        # Snapshot is taken at 2 frames per second\n",
    "\n",
    "        return int(len(self.content.keys()) / 4)\n",
    "    \n",
    "    def __getitem__(self, offset_index) :\n",
    "        # We are taking 4 sequential images, point clouds each time to account for temporal variation\n",
    "        start_index = offset_index * 4\n",
    "        end_index = start_index + 3\n",
    "\n",
    "        # Get data from respective index\n",
    "        prev_cmd_vel = self.content[end_index]['prev_cmd_vel']\n",
    "        gt_cmd_vel = self.content[end_index]['gt_cmd_vel']\n",
    "        local_goal = self.content[end_index]['local_goal']\n",
    "        robot_position = self.content[end_index]['robot_position']\n",
    "        \n",
    "        # Image paths\n",
    "        image_paths = [ os.path.join(self.root_path, str(i)+'.jpg') for i in range(start_index, end_index+1) ]\n",
    "        \n",
    "        # only keep points that are under 5 + 1 (delta) meters from the robot\n",
    "        point_clouds = []\n",
    "        total_length = 0\n",
    "        for point_snapshot in range(start_index, end_index+1):\n",
    "            filtered_points = []\n",
    "            grnd_pts = []\n",
    "            for point in self.content[point_snapshot]['point_cloud']:\n",
    "                if (point[0]**2 + point[1]**2 + point[2]**2) <= 49:\n",
    "                    filtered_points.append(point)\n",
    "                else:\n",
    "                    grnd_pts.append(point)\n",
    "            \n",
    "            if len(filtered_points) < 15000:\n",
    "                shortage = 15000 - len(filtered_points)\n",
    "                filtered_points.extend(grnd_pts[-shortage:])\n",
    "\n",
    "            point_clouds.append(filtered_points[0:15000])          \n",
    "\n",
    "        return (image_paths, point_clouds, local_goal, prev_cmd_vel, robot_position, gt_cmd_vel)\n",
    "\n",
    "        \n",
    "\n",
    "indexer = IndexDataset('/Users/bhabaranjanpanigrahi/Research/Code/fusion-network/recorded-data/136021.bag')\n",
    "# print(object.__len__())"
   ]
  },
  {
   "cell_type": "code",
   "execution_count": 5,
   "metadata": {},
   "outputs": [],
   "source": [
    "import torch\n",
    "from torchvision import transforms\n",
    "import pickle\n",
    "import numpy as np\n",
    "import coloredlogs, logging\n",
    "import os\n",
    "import cv2\n",
    "\n",
    "from torch.utils.data import Dataset\n",
    "from scipy.spatial.transform import Rotation as R\n",
    "\n",
    "coloredlogs.install()\n",
    "\n",
    "def read_images(path):\n",
    "    # print(f\"{path = }\")\n",
    "    image = cv2.imread(path)\n",
    "    # Will have to do some re-sizing\n",
    "    return cv2.cvtColor(image, cv2.COLOR_BGR2RGB)\n",
    "\n",
    "def get_transformation_matrix(position, quaternion):\n",
    "    theta = R.from_quat([quaternion.x, quaternion.y, quaternion.z, quaternion.w]).as_euler('XYZ')[2]\n",
    "    robo_coordinate_in_glob_frame  = np.array([[np.cos(theta), -np.sin(theta), position.x],\n",
    "                    [np.sin(theta), np.cos(theta), position.y],\n",
    "                    [0, 0, 1]])\n",
    "    return robo_coordinate_in_glob_frame\n",
    "\n",
    "def cart2polar(xyz):\n",
    "    r = np.sqrt(xyz[:, 0] ** 2 + xyz[:, 1] ** 2)\n",
    "    theta =  np.arctan2(xyz[:, 1], xyz[:, 0])\n",
    "    return np.stack((r,theta, xyz[:,2]), axis=1)\n",
    "\n",
    "\n",
    "class ApplyTransformation(Dataset):\n",
    "    def __init__(self, input_data, grid_size = [72, 30, 30]):\n",
    "        self.grid_size = np.asarray(grid_size)  \n",
    "        self.input_data = input_data    \n",
    "        self.image_transforms = transforms.Compose([\n",
    "                    transforms.ToTensor(),\n",
    "                    transforms.Resize((224,224),antialias=True),\n",
    "                    # transforms.Normalize(mean=[0.485, 0.456, 0.406],  # ImageNet mean hardcoded\n",
    "                    #                       std=[0.229, 0.224, 0.225])  # ImageNet std hardcoded\n",
    "            ])\n",
    "    \n",
    "    def __len__(self):\n",
    "         # TODO: this will return 1 example set with the following details\n",
    "        return len(self.input_data)\n",
    "\n",
    "    def __getitem__(self, index):\n",
    "        # Transform images\n",
    "        data = self.input_data[index]\n",
    "        self.image_paths = data[0]\n",
    "        self.point_clouds = data[1]\n",
    "        self.local_goal = data[2]\n",
    "        self.prev_cmd_vel = data[3]        \n",
    "        self.robot_position  = data[4]\n",
    "        self.gt_cmd_vel = data[5]\n",
    "        \n",
    "\n",
    "        images = [ self.image_transforms(read_images(path)) for path in self.image_paths]\n",
    "        stacked_images = torch.cat(images, dim=0)\n",
    "        \n",
    "        # Transform local goal into robot frame\n",
    "        robot_coordinate_in_glob_frame = get_transformation_matrix(self.robot_position[0],self.robot_position[1])\n",
    "        transform_to_robot_coordinate =   np.linalg.pinv(robot_coordinate_in_glob_frame)\n",
    "\n",
    "        local_goal_in_robot_frame = transform_to_robot_coordinate @ np.asanyarray([self.local_goal[0], self.local_goal[1],1]).reshape((3,1))\t\n",
    "        local_goal = (local_goal_in_robot_frame[0,0], local_goal_in_robot_frame[1,0])\n",
    "\n",
    "        # Transform point-clouds to 3D-Cylider co-ordinate system\n",
    "        point_clouds = np.concatenate(self.point_clouds, axis=0)   \n",
    "\n",
    "        # TODO: subsample the point clouds to keep a fixed number of points across frames\n",
    "        xyz_polar = cart2polar(point_clouds)\n",
    "\n",
    "        max_bound_r = np.percentile(xyz_polar[:, 0], 100, axis=0)\n",
    "        min_bound_r = np.percentile(xyz_polar[:, 0], 0, axis=0)\n",
    "\n",
    "        max_bound = np.max(xyz_polar[:, 1:], axis=0)\n",
    "        min_bound = np.min(xyz_polar[:, 1:], axis=0)\n",
    "\n",
    "        max_bound = np.concatenate(([max_bound_r],max_bound))\n",
    "        min_bound = np.concatenate(([min_bound_r], min_bound))\n",
    "\n",
    "        range_to_crop = max_bound - min_bound\n",
    "        cur_grid_size = (self.grid_size - 1)\n",
    "        intervals = range_to_crop / cur_grid_size\n",
    "\n",
    "        if (intervals == 0).any(): print(\"Zero interval!\")\n",
    "        grid_index = (np.floor(( np.clip(xyz_polar, min_bound, max_bound) - min_bound) / intervals)).astype(int)\n",
    "        \n",
    "        # Center data around each voxel for PTnet\n",
    "        voxel_centers = (grid_index.astype(np.float32) + 0.5) * intervals + min_bound\n",
    "        return_xyz = xyz_polar - voxel_centers\n",
    "        transformed_pcl = np.concatenate((return_xyz, xyz_polar, point_clouds[:, :2]), axis=1)\n",
    "\n",
    "         \n",
    "\n",
    "        local_goal = torch.tensor(local_goal, dtype=torch.float32).ravel()\n",
    "        local_goal = (local_goal - local_goal.min()) / (local_goal.max() - local_goal.min())\n",
    "\n",
    "        prev_cmd_vel = torch.tensor(self.prev_cmd_vel, dtype=torch.float32).ravel()\n",
    "        gt_cmd_vel = torch.tensor(self.gt_cmd_vel, dtype=torch.float32).ravel()\n",
    "\n",
    "\n",
    "        return (stacked_images, torch.tensor(grid_index), torch.tensor(transformed_pcl), local_goal, prev_cmd_vel, gt_cmd_vel)"
   ]
  },
  {
   "cell_type": "code",
   "execution_count": 6,
   "metadata": {},
   "outputs": [
    {
     "ename": "NameError",
     "evalue": "name 'indexer' is not defined",
     "output_type": "error",
     "traceback": [
      "\u001b[0;31m---------------------------------------------------------------------------\u001b[0m",
      "\u001b[0;31mNameError\u001b[0m                                 Traceback (most recent call last)",
      "Cell \u001b[0;32mIn[6], line 1\u001b[0m\n\u001b[0;32m----> 1\u001b[0m data \u001b[39m=\u001b[39m \u001b[39mnext\u001b[39m(\u001b[39miter\u001b[39m(ApplyTransformation(indexer)))\n\u001b[1;32m      2\u001b[0m \u001b[39mprint\u001b[39m(\u001b[39mf\u001b[39m\u001b[39m\"\u001b[39m\u001b[39m{\u001b[39;00mdata[\u001b[39m2\u001b[39m]\u001b[39m.\u001b[39mshape\u001b[39m \u001b[39m\u001b[39m= }\u001b[39;00m\u001b[39m\"\u001b[39m)\n",
      "\u001b[0;31mNameError\u001b[0m: name 'indexer' is not defined"
     ]
    }
   ],
   "source": [
    "data = next(iter(ApplyTransformation(indexer)))\n",
    "print(f\"{data[2].shape = }\")"
   ]
  },
  {
   "cell_type": "code",
   "execution_count": 90,
   "metadata": {},
   "outputs": [
    {
     "data": {
      "text/plain": [
       "torch.Size([29269, 8])"
      ]
     },
     "execution_count": 90,
     "metadata": {},
     "output_type": "execute_result"
    }
   ],
   "source": [
    "x[2].shape"
   ]
  },
  {
   "cell_type": "code",
   "execution_count": 38,
   "metadata": {},
   "outputs": [],
   "source": [
    "y = x[1][1]\n",
    "c = []\n",
    "c.append(y)\n",
    "c.append(y)\n",
    "c.append(y)\n",
    "d = torch.tensor(c)"
   ]
  },
  {
   "cell_type": "code",
   "execution_count": 39,
   "metadata": {},
   "outputs": [
    {
     "data": {
      "text/plain": [
       "torch.Size([3, 29269, 8])"
      ]
     },
     "execution_count": 39,
     "metadata": {},
     "output_type": "execute_result"
    }
   ],
   "source": [
    "d.shape"
   ]
  },
  {
   "cell_type": "code",
   "execution_count": 40,
   "metadata": {},
   "outputs": [],
   "source": [
    "x = [torch.from_numpy(i) for i in c]"
   ]
  },
  {
   "cell_type": "code",
   "execution_count": 52,
   "metadata": {},
   "outputs": [],
   "source": [
    "l = x[0]"
   ]
  },
  {
   "cell_type": "code",
   "execution_count": 56,
   "metadata": {},
   "outputs": [
    {
     "data": {
      "text/plain": [
       "torch.Size([29269, 8])"
      ]
     },
     "execution_count": 56,
     "metadata": {},
     "output_type": "execute_result"
    }
   ],
   "source": [
    "l.shape"
   ]
  },
  {
   "cell_type": "code",
   "execution_count": 51,
   "metadata": {},
   "outputs": [],
   "source": [
    "import torch.nn.functional as F\n",
    "d = np.ones((100,8))\n"
   ]
  },
  {
   "cell_type": "code",
   "execution_count": 57,
   "metadata": {},
   "outputs": [],
   "source": [
    "\n",
    "k = F.pad(l, (1, 0), 'constant', value=7)"
   ]
  },
  {
   "cell_type": "code",
   "execution_count": 60,
   "metadata": {},
   "outputs": [
    {
     "data": {
      "text/plain": [
       "tensor([ 7.0000e+00,  9.1713e-03,  8.8107e-03, -3.8865e-03,  3.0948e+00,\n",
       "        -1.7204e+00, -8.2926e-01, -4.6118e-01, -3.0603e+00],\n",
       "       dtype=torch.float64)"
      ]
     },
     "execution_count": 60,
     "metadata": {},
     "output_type": "execute_result"
    }
   ],
   "source": [
    "k[0]"
   ]
  },
  {
   "cell_type": "code",
   "execution_count": 14,
   "metadata": {},
   "outputs": [
    {
     "data": {
      "image/png": "[encoded data removed]",
      "text/plain": [
       "<Figure size 640x480 with 1 Axes>"
      ]
     },
     "metadata": {},
     "output_type": "display_data"
    }
   ],
   "source": [
    "import matplotlib.pyplot as plt\n",
    "\n",
    "# Create x and y data\n",
    "x = [i for i in range(10)]\n",
    "y = [1.1454883813858032, 0.7548354268074036, 0.42827606201171875, 0.12355022132396698, 0.10271172225475311, 0.23359526693820953, 0.15651413798332214, 0.049618806689977646, 0.06286948174238205, 0.057311490178108215]\n",
    "\n",
    "# Plot the graph\n",
    "plt.plot(x, y, '-o')\n",
    "plt.xlabel('Step')\n",
    "plt.ylabel('Error')\n",
    "plt.title('Error vs. Step')\n",
    "plt.show()"
   ]
  },
  {
   "cell_type": "code",
   "execution_count": 2,
   "metadata": {},
   "outputs": [
    {
     "ename": "ModuleNotFoundError",
     "evalue": "No module named 'scipy'",
     "output_type": "error",
     "traceback": [
      "\u001b[0;31m---------------------------------------------------------------------------\u001b[0m",
      "\u001b[0;31mModuleNotFoundError\u001b[0m                       Traceback (most recent call last)",
      "\u001b[0;32m<ipython-input-2-d6f5e7434921>\u001b[0m in \u001b[0;36m<module>\u001b[0;34m\u001b[0m\n\u001b[1;32m      1\u001b[0m \u001b[0;32mimport\u001b[0m \u001b[0mnumpy\u001b[0m \u001b[0;32mas\u001b[0m \u001b[0mnp\u001b[0m\u001b[0;34m\u001b[0m\u001b[0;34m\u001b[0m\u001b[0m\n\u001b[0;32m----> 2\u001b[0;31m \u001b[0;32mfrom\u001b[0m \u001b[0mscipy\u001b[0m\u001b[0;34m.\u001b[0m\u001b[0mspatial\u001b[0m\u001b[0;34m.\u001b[0m\u001b[0mtransform\u001b[0m \u001b[0;32mimport\u001b[0m \u001b[0mRotation\u001b[0m \u001b[0;32mas\u001b[0m \u001b[0mR\u001b[0m\u001b[0;34m\u001b[0m\u001b[0;34m\u001b[0m\u001b[0m\n\u001b[0m\u001b[1;32m      3\u001b[0m \u001b[0;32mimport\u001b[0m \u001b[0mtf\u001b[0m\u001b[0;34m\u001b[0m\u001b[0;34m\u001b[0m\u001b[0m\n\u001b[1;32m      4\u001b[0m \u001b[0;32mimport\u001b[0m \u001b[0mtorch\u001b[0m\u001b[0;34m\u001b[0m\u001b[0;34m\u001b[0m\u001b[0m\n\u001b[1;32m      5\u001b[0m \u001b[0;32mfrom\u001b[0m \u001b[0mtorch\u001b[0m\u001b[0;34m.\u001b[0m\u001b[0mutils\u001b[0m\u001b[0;34m.\u001b[0m\u001b[0mdata\u001b[0m \u001b[0;32mimport\u001b[0m \u001b[0mDataset\u001b[0m\u001b[0;34m\u001b[0m\u001b[0;34m\u001b[0m\u001b[0m\n",
      "\u001b[0;31mModuleNotFoundError\u001b[0m: No module named 'scipy'"
     ]
    }
   ],
   "source": [
    "import numpy as np\n",
    "from scipy.spatial.transform import Rotation as R\n",
    "import tf\n",
    "import torch\n",
    "from torch.utils.data import Dataset\n",
    "import pickle\n",
    "import coloredlogs, logging\n",
    "import os\n",
    "\n",
    "from torch.utils.data import Dataset\n",
    "coloredlogs.install()\n"
   ]
  },
  {
   "cell_type": "code",
   "execution_count": 46,
   "metadata": {},
   "outputs": [],
   "source": [
    "class IndexDataset(Dataset):\n",
    "\n",
    "    def __init__(self, dir_path):        \n",
    "        self.root_path = dir_path\n",
    "        self.pickle_path = os.path.join(dir_path , 'snapshot.pickle')        \n",
    "        \n",
    "        logging.info(f'Parsing pickle file: {self.pickle_path}')\n",
    "    \n",
    "        with open(self.pickle_path, 'rb') as data:\n",
    "            self.content = pickle.load(data)\n",
    "\n",
    "        logging.info('Picklefile loaded')\n",
    "\n",
    "        # Exclude keys that does not have a local goal [as the robot did not travel 10 meters]\n",
    "        keys = list(self.content.keys())\n",
    "        for key in keys:\n",
    "            if len(self.content[key]['local_goal'])!=12:                \n",
    "                print(key)\n",
    "                self.content.pop(key)\n",
    "\n",
    "    def __len__(self):\n",
    "        # As images and point clouds will be in sets of 4\n",
    "        return int(len(self.content.keys()) - 4)\n",
    "    \n",
    "    def __getitem__(self, offset_index) :\n",
    "        # We are taking 4 sequential images, point clouds each time to account for temporal variation\n",
    "        start_index = offset_index\n",
    "\n",
    "        # Get data from respective index       \n",
    "        gt_cmd_vel = self.content[start_index]['gt_cmd_vel']\n",
    "        local_goal = self.content[start_index]['local_goal']\n",
    "        robot_position = self.content[start_index]['robot_position']\n",
    "        \n",
    "        # Image paths\n",
    "        image_paths = [ os.path.join(self.root_path, str(i)+'.jpg') for i in range(start_index, start_index+1) ]\n",
    "        \n",
    "        # only keep points that are under 5 + 1 (delta) meters from the robot\n",
    "        point_clouds = []\n",
    "        # print(list(self.content.keys()), start_index, end_index)\n",
    "        for point_snapshot in range(start_index, start_index+1):\n",
    "            filtered_points = []            \n",
    "            for point in self.content[point_snapshot]['point_cloud']:\n",
    "                if point[0] >= -1 and point[0] <= 5 and point[1]>=-3 and point[1]<=3 and point[2] >= 0.0299 and point[2] <= 6.0299:\n",
    "                    filtered_points.append(point)                           \n",
    "\n",
    "            point_clouds.append(filtered_points)                \n",
    "\n",
    "        return (image_paths, point_clouds, local_goal, robot_position, gt_cmd_vel)"
   ]
  },
  {
   "cell_type": "code",
   "execution_count": 158,
   "metadata": {},
   "outputs": [
    {
     "name": "stderr",
     "output_type": "stream",
     "text": [
      "2023-08-02 20:33:33 robotixx-s1 root[92716] INFO Parsing pickle file: /home/ranjan/Workspace/my_works/fusion-network/recorded-data/train/135968_wt_at/snapshot.pickle\n",
      "2023-08-02 20:33:54 robotixx-s1 root[92716] INFO Picklefile loaded\n"
     ]
    },
    {
     "name": "stdout",
     "output_type": "stream",
     "text": [
      "2683\n",
      "2684\n",
      "2685\n",
      "2686\n",
      "2687\n",
      "2688\n",
      "2689\n",
      "2690\n",
      "2691\n",
      "2692\n",
      "2693\n",
      "2694\n",
      "2695\n",
      "2696\n",
      "2697\n",
      "2698\n",
      "2699\n",
      "2700\n",
      "2701\n",
      "2702\n",
      "2703\n",
      "2704\n",
      "2705\n",
      "2706\n",
      "2707\n",
      "2708\n",
      "2709\n",
      "2710\n",
      "2711\n",
      "2712\n",
      "2713\n",
      "2714\n",
      "2715\n",
      "2716\n",
      "2717\n",
      "2718\n",
      "2719\n",
      "2720\n",
      "2721\n",
      "2722\n",
      "2723\n",
      "2724\n"
     ]
    }
   ],
   "source": [
    "idxer = IndexDataset('/home/ranjan/Workspace/my_works/fusion-network/recorded-data/train/135968_wt_at')"
   ]
  },
  {
   "cell_type": "code",
   "execution_count": 159,
   "metadata": {},
   "outputs": [],
   "source": [
    "keys = list(idxer.content.keys())\n",
    "anglr_vel = []\n",
    "for key in keys:\n",
    "    anglr_vel.append(idxer.content[key]['gt_cmd_vel'][2])\n",
    "\n",
    "anglr_vel = np.array(anglr_vel)"
   ]
  },
  {
   "cell_type": "code",
   "execution_count": 160,
   "metadata": {},
   "outputs": [
    {
     "data": {
      "text/plain": [
       "(2683,)"
      ]
     },
     "execution_count": 160,
     "metadata": {},
     "output_type": "execute_result"
    }
   ],
   "source": [
    "anglr_vel.shape"
   ]
  },
  {
   "cell_type": "code",
   "execution_count": 161,
   "metadata": {},
   "outputs": [],
   "source": [
    "import numpy as np\n",
    "import matplotlib.pyplot as plt\n",
    "\n",
    "def plot_bucket_histogram(data_array, num_buckets=10):\n",
    "    # Ensure the input data is a NumPy array\n",
    "    data_array = np.array(data_array)\n",
    "    \n",
    "    # Validate the number of buckets parameter\n",
    "    if not isinstance(num_buckets, int) or num_buckets <= 0:\n",
    "        raise ValueError(\"Number of buckets should be a positive integer.\")\n",
    "    \n",
    "    # Calculate the range of values in the data array\n",
    "    min_value = np.min(data_array)\n",
    "    max_value = np.max(data_array)\n",
    "    \n",
    "    # If the min_value and max_value are the same, handle the edge case\n",
    "    if min_value == max_value:\n",
    "        bucket_size = 1\n",
    "        bucket_limits = [min_value, max_value]\n",
    "    else:\n",
    "        # Calculate the size of each bucket\n",
    "        bucket_size = (max_value - min_value) / num_buckets\n",
    "    \n",
    "        # Create an array of bucket limits\n",
    "        bucket_limits = [min_value + i * bucket_size for i in range(num_buckets)]\n",
    "        bucket_limits.append(max_value)  # Include the upper limit of the last bucket\n",
    "    \n",
    "    # Initialize an empty dictionary to store the number of elements in each bucket\n",
    "    bucket_counts = {i: 0 for i in range(num_buckets)}\n",
    "    \n",
    "    # Iterate through the data array and count elements in each bucket\n",
    "    for value in data_array:\n",
    "        # Ensure the bucket_idx is within the valid range\n",
    "        bucket_idx = int((value - min_value) / bucket_size)\n",
    "        bucket_idx = max(0, min(bucket_idx, num_buckets - 1))\n",
    "        bucket_counts[bucket_idx] += 1\n",
    "    \n",
    "    # Extract the counts and bucket limits for plotting\n",
    "    counts = list(bucket_counts.values())\n",
    "    limits = list(bucket_limits)\n",
    "    \n",
    "    # Plot the histogram\n",
    "    plt.bar(limits[:-1], counts, width=bucket_size, align='edge')\n",
    "    plt.xlabel(\"Bucket\")\n",
    "    plt.ylabel(\"Number of Elements\")\n",
    "    plt.title(\"Histogram of Buckets vs. Number of Elements\")\n",
    "    plt.grid(True)\n",
    "    plt.show()\n",
    "\n",
    "# Test the function with a sample data array containing floating-point numbers\n",
    "# np.random.seed(42)\n",
    "# sample_data = np.random.uniform(0, 100, size=1000)\n",
    "# plot_bucket_histogram(sample_data, num_buckets=10)\n"
   ]
  },
  {
   "cell_type": "code",
   "execution_count": 162,
   "metadata": {},
   "outputs": [
    {
     "data": {
      "text/plain": [
       "(2683,)"
      ]
     },
     "execution_count": 162,
     "metadata": {},
     "output_type": "execute_result"
    }
   ],
   "source": [
    "anglr_vel.shape"
   ]
  },
  {
   "cell_type": "code",
   "execution_count": 163,
   "metadata": {},
   "outputs": [
    {
     "data": {
      "image/png": "[encoded data removed]",
      "text/plain": [
       "<Figure size 640x480 with 1 Axes>"
      ]
     },
     "metadata": {},
     "output_type": "display_data"
    }
   ],
   "source": [
    "plot_bucket_histogram(anglr_vel,50)"
   ]
  },
  {
   "cell_type": "code",
   "execution_count": 169,
   "metadata": {},
   "outputs": [],
   "source": [
    "def scale_min_max(x,min_val=0, max_val=6):    \n",
    "    x = np.interp(x,(-0.55, 0.55), (0, 20000))\n",
    "    return x"
   ]
  },
  {
   "cell_type": "code",
   "execution_count": 170,
   "metadata": {},
   "outputs": [],
   "source": [
    "def reverse_scale_min_max(x,min_val=0, max_val=6):    \n",
    "    x = np.interp(x,(0, 20000), (-0.55, 0.55))\n",
    "    return x"
   ]
  },
  {
   "cell_type": "code",
   "execution_count": 174,
   "metadata": {},
   "outputs": [
    {
     "name": "stdout",
     "output_type": "stream",
     "text": [
      "scaled: 9818.181818181818\n"
     ]
    }
   ],
   "source": [
    "p = scale_min_max(-0.01 )\n",
    "print(f'scaled: {p}')"
   ]
  },
  {
   "cell_type": "code",
   "execution_count": 175,
   "metadata": {},
   "outputs": [
    {
     "name": "stdout",
     "output_type": "stream",
     "text": [
      "reverse scaled: -0.010000000000000009\n"
     ]
    }
   ],
   "source": [
    "p = reverse_scale_min_max(p)\n",
    "print(f'reverse scaled: {p}')"
   ]
  },
  {
   "cell_type": "code",
   "execution_count": 45,
   "metadata": {},
   "outputs": [],
   "source": [
    "\n",
    "def get_transformation_matrix(position, quaternion):\n",
    "    theta = R.from_quat(quaternion).as_euler('XYZ')[2]\n",
    "    robo_coordinate_in_glob_frame  = np.array([[np.cos(theta), -np.sin(theta), position[0]],\n",
    "                    [np.sin(theta), np.cos(theta), position[1]],\n",
    "                    [0, 0, 1]])\n",
    "    return robo_coordinate_in_glob_frame\n",
    "\n",
    "def get_transformation_matrix_tf(position, quaternion):\n",
    "    \n",
    "    q = tf.transformations.quaternion_from_euler(quaternion[0], quaternion[1], quaternion[2])\n",
    "    rotation_matrix = tf.transformations.quaternion_matrix(q)\n",
    "    translation = -np.matmul(rotation_matrix, np.array([position[0],position[1],0,1]).reshape(4,1))\n",
    "    translation[3,0]=1\n",
    "    # print(tr)\n",
    "    transformation_matrix = np.concatenate([rotation_matrix[:,:3], translation], axis=1)\n",
    "    \n",
    "    return transformation_matrix\n",
    "\n",
    "\n",
    "def quaternion_to_rotation_matrix(position,q):\n",
    "    # Normalize the quaternion to ensure it's a unit quaternion\n",
    "    qx, qy, qz, qw = q\n",
    "    magnitude = np.sqrt(qx**2 + qy**2 + qz**2 + qw**2)\n",
    "    qx /= magnitude\n",
    "    qy /= magnitude\n",
    "    qz /= magnitude\n",
    "    qw /= magnitude\n",
    "\n",
    "    # Compute the rotation matrix from the normalized quaternion\n",
    "    rotation_matrix = np.array([[1 - 2*qy**2 - 2*qz**2, 2*qx*qy - 2*qz*qw, 2*qx*qz + 2*qy*qw],\n",
    "                                [2*qx*qy + 2*qz*qw, 1 - 2*qx**2 - 2*qz**2, 2*qy*qz - 2*qx*qw],\n",
    "                                [2*qx*qz - 2*qy*qw, 2*qy*qz + 2*qx*qw, 1 - 2*qx**2 - 2*qy**2]])\n",
    "    \n",
    "    translation = -np.matmul(rotation_matrix, np.array([position[0],position[1],0]).reshape(3,1))\n",
    "    transformation_matrix = np.concatenate([rotation_matrix[:,:3], translation], axis=1)\n",
    "\n",
    "    return transformation_matrix"
   ]
  },
  {
   "cell_type": "code",
   "execution_count": 53,
   "metadata": {},
   "outputs": [],
   "source": [
    "x = idxer.__getitem__(420)\n"
   ]
  },
  {
   "cell_type": "code",
   "execution_count": 54,
   "metadata": {},
   "outputs": [
    {
     "name": "stdout",
     "output_type": "stream",
     "text": [
      "0.8579392997585997\n",
      "0.0\n"
     ]
    }
   ],
   "source": [
    "print(x[4][0])\n",
    "print(x[4][1])"
   ]
  },
  {
   "cell_type": "code",
   "execution_count": 55,
   "metadata": {},
   "outputs": [
    {
     "data": {
      "text/plain": [
       "[(621.2655158795263, -16.81702351642675),\n",
       " (620.7671381178258, -16.747722991326775),\n",
       " (620.2909399974401, -16.692712400240076),\n",
       " (619.7569130791198, -16.631103666121977),\n",
       " (619.2413009377151, -16.600038046079177),\n",
       " (618.7200740628001, -16.52289582791648),\n",
       " (618.2712885782366, -16.32064604050052),\n",
       " (617.8444107547102, -16.04634388675987),\n",
       " (617.5198434599708, -15.660985181540298),\n",
       " (617.2458742384703, -15.251861836295433),\n",
       " (616.8781886850026, -14.89519274927153),\n",
       " (616.5340518578414, -14.556603858332863)]"
      ]
     },
     "execution_count": 55,
     "metadata": {},
     "output_type": "execute_result"
    }
   ],
   "source": [
    "x[2]"
   ]
  },
  {
   "cell_type": "code",
   "execution_count": 56,
   "metadata": {},
   "outputs": [],
   "source": [
    "matrix = get_transformation_matrix(x[3][0],x[3][1])\n",
    "matrix_inv = np.linalg.pinv(matrix)"
   ]
  },
  {
   "cell_type": "code",
   "execution_count": 57,
   "metadata": {},
   "outputs": [
    {
     "data": {
      "text/plain": [
       "array([[621.26551588, 620.76713812, 620.29094   , 619.75691308,\n",
       "        619.24130094, 618.72007406, 618.27128858, 617.84441075,\n",
       "        617.51984346, 617.24587424, 616.87818869, 616.53405186],\n",
       "       [-16.81702352, -16.74772299, -16.6927124 , -16.63110367,\n",
       "        -16.60003805, -16.52289583, -16.32064604, -16.04634389,\n",
       "        -15.66098518, -15.25186184, -14.89519275, -14.55660386],\n",
       "       [  1.        ,   1.        ,   1.        ,   1.        ,\n",
       "          1.        ,   1.        ,   1.        ,   1.        ,\n",
       "          1.        ,   1.        ,   1.        ,   1.        ]])"
      ]
     },
     "execution_count": 57,
     "metadata": {},
     "output_type": "execute_result"
    }
   ],
   "source": [
    "goals = np.array(x[2])\n",
    "goals = np.concatenate([x[2], np.ones((12,1))], axis=1).transpose()\n",
    "goals"
   ]
  },
  {
   "cell_type": "code",
   "execution_count": 58,
   "metadata": {},
   "outputs": [],
   "source": [
    "# np.matmul(matrix2, np.array([x[2][0],x[2][1],0,1]).reshape(4,1))\n",
    "l = np.matmul(matrix_inv, goals)"
   ]
  },
  {
   "cell_type": "code",
   "execution_count": 59,
   "metadata": {},
   "outputs": [
    {
     "data": {
      "text/plain": [
       "array([[ 0.62019559,  1.11985928,  1.59444499,  2.12664282,  2.63328369,\n",
       "         3.15703808,  3.64243784,  4.12491392,  4.53657972,  4.90532603,\n",
       "         5.35142724,  5.77016513],\n",
       "       [ 0.01537116,  0.07469361,  0.14221565,  0.21801704,  0.31869467,\n",
       "         0.37622481,  0.2943685 ,  0.13725968, -0.1532167 , -0.47950983,\n",
       "        -0.73130184, -0.97157496],\n",
       "       [ 1.        ,  1.        ,  1.        ,  1.        ,  1.        ,\n",
       "         1.        ,  1.        ,  1.        ,  1.        ,  1.        ,\n",
       "         1.        ,  1.        ]])"
      ]
     },
     "execution_count": 59,
     "metadata": {},
     "output_type": "execute_result"
    }
   ],
   "source": [
    "l"
   ]
  },
  {
   "cell_type": "code",
   "execution_count": 60,
   "metadata": {},
   "outputs": [
    {
     "name": "stdout",
     "output_type": "stream",
     "text": [
      "0.25318295613663816\n",
      "0.22979081499066828\n",
      "0.28898038561012906\n",
      "0.2668209531126945\n",
      "0.2776283769567399\n",
      "0.24231338766468258\n",
      "0.257466347765378\n",
      "0.2538452605029833\n",
      "0.24244104595397198\n",
      "0.26240550386726613\n",
      "0.23307259287565116\n"
     ]
    }
   ],
   "source": [
    "for i in range(0,11):\n",
    "    p = np.array(l[:2,i])\n",
    "    q = np.array(l[:2,i+1])\n",
    "\n",
    "    # print(f'point a:{p}')\n",
    "    # print(f'point b:{q}')\n",
    "\n",
    "    print(np.sum(np.square(p - q)))"
   ]
  },
  {
   "cell_type": "code",
   "execution_count": 61,
   "metadata": {},
   "outputs": [
    {
     "data": {
      "text/plain": [
       "(0.8579392997585997, 0.0, 0.298080747048154)"
      ]
     },
     "execution_count": 61,
     "metadata": {},
     "output_type": "execute_result"
    }
   ],
   "source": [
    "x[4]"
   ]
  },
  {
   "cell_type": "code",
   "execution_count": 194,
   "metadata": {},
   "outputs": [
    {
     "data": {
      "text/plain": [
       "array([ 78.20655317, 520.16068846])"
      ]
     },
     "execution_count": 194,
     "metadata": {},
     "output_type": "execute_result"
    }
   ],
   "source": [
    "lc"
   ]
  },
  {
   "cell_type": "code",
   "execution_count": 195,
   "metadata": {},
   "outputs": [],
   "source": [
    "\n",
    "coordinates =np.expand_dims( np.concatenate([lc, [0], [1] ], axis=0), axis=1)"
   ]
  },
  {
   "cell_type": "code",
   "execution_count": 196,
   "metadata": {},
   "outputs": [
    {
     "data": {
      "text/plain": [
       "array([[ 78.20655317],\n",
       "       [520.16068846],\n",
       "       [  0.        ],\n",
       "       [  1.        ]])"
      ]
     },
     "execution_count": 196,
     "metadata": {},
     "output_type": "execute_result"
    }
   ],
   "source": [
    "coordinates"
   ]
  },
  {
   "cell_type": "code",
   "execution_count": 197,
   "metadata": {},
   "outputs": [
    {
     "name": "stdout",
     "output_type": "stream",
     "text": [
      "(4, 4)\n",
      "(4, 1)\n"
     ]
    }
   ],
   "source": [
    "print(matrix.shape)\n",
    "print(coordinates.shape)"
   ]
  },
  {
   "cell_type": "code",
   "execution_count": 198,
   "metadata": {},
   "outputs": [],
   "source": [
    "l = np.matmul(matrix, coordinates)"
   ]
  },
  {
   "cell_type": "code",
   "execution_count": 233,
   "metadata": {},
   "outputs": [
    {
     "data": {
      "text/plain": [
       "array([[-2.96944330e+00],\n",
       "       [-6.31978288e-01],\n",
       "       [-2.75284144e-03],\n",
       "       [ 1.00000000e+00]])"
      ]
     },
     "execution_count": 233,
     "metadata": {},
     "output_type": "execute_result"
    }
   ],
   "source": [
    "l"
   ]
  },
  {
   "cell_type": "code",
   "execution_count": 188,
   "metadata": {},
   "outputs": [
    {
     "ename": "IndexError",
     "evalue": "index 1 is out of bounds for axis 1 with size 1",
     "output_type": "error",
     "traceback": [
      "\u001b[0;31m---------------------------------------------------------------------------\u001b[0m",
      "\u001b[0;31mIndexError\u001b[0m                                Traceback (most recent call last)",
      "Cell \u001b[0;32mIn[188], line 2\u001b[0m\n\u001b[1;32m      1\u001b[0m p \u001b[39m=\u001b[39m np\u001b[39m.\u001b[39marray(l[:\u001b[39m2\u001b[39m,\u001b[39m0\u001b[39m])\n\u001b[0;32m----> 2\u001b[0m q \u001b[39m=\u001b[39m np\u001b[39m.\u001b[39marray(l[:\u001b[39m2\u001b[39;49m,\u001b[39m1\u001b[39;49m])\n\u001b[1;32m      4\u001b[0m \u001b[39mprint\u001b[39m(\u001b[39mf\u001b[39m\u001b[39m'\u001b[39m\u001b[39mpoint a:\u001b[39m\u001b[39m{\u001b[39;00mp\u001b[39m}\u001b[39;00m\u001b[39m'\u001b[39m)\n\u001b[1;32m      5\u001b[0m \u001b[39mprint\u001b[39m(\u001b[39mf\u001b[39m\u001b[39m'\u001b[39m\u001b[39mpoint b:\u001b[39m\u001b[39m{\u001b[39;00mq\u001b[39m}\u001b[39;00m\u001b[39m'\u001b[39m)\n",
      "\u001b[0;31mIndexError\u001b[0m: index 1 is out of bounds for axis 1 with size 1"
     ]
    }
   ],
   "source": [
    "p = np.array(l[:2,0])\n",
    "q = np.array(l[:2,1])\n",
    "\n",
    "print(f'point a:{p}')\n",
    "print(f'point b:{q}')\n",
    "\n",
    "print(np.sum(np.square(p - q)))"
   ]
  },
  {
   "cell_type": "code",
   "execution_count": 234,
   "metadata": {},
   "outputs": [],
   "source": [
    "tf_matrix = get_transformation_matrix_tf(x[4][0],x[4][1])"
   ]
  },
  {
   "cell_type": "code",
   "execution_count": 235,
   "metadata": {},
   "outputs": [
    {
     "data": {
      "text/plain": [
       "array([[ 6.67854840e-01,  7.44287495e-01, -2.45729141e-03,\n",
       "        -4.42349164e+02],\n",
       "       [-7.44258702e-01,  6.67852742e-01,  7.19016087e-03,\n",
       "        -2.89816813e+02],\n",
       "       [ 6.99265563e-03, -2.97312322e-03,  9.99971131e-01,\n",
       "         9.96877483e-01],\n",
       "       [ 0.00000000e+00,  0.00000000e+00,  0.00000000e+00,\n",
       "         1.00000000e+00]])"
      ]
     },
     "execution_count": 235,
     "metadata": {},
     "output_type": "execute_result"
    }
   ],
   "source": [
    "tf_matrix"
   ]
  },
  {
   "cell_type": "code",
   "execution_count": 236,
   "metadata": {},
   "outputs": [],
   "source": [
    "lcg = np.matmul(tf_matrix, np.array([x[2][0],x[2][1],0,1]).reshape(4,1))"
   ]
  },
  {
   "cell_type": "code",
   "execution_count": 237,
   "metadata": {},
   "outputs": [
    {
     "data": {
      "text/plain": [
       "array([[-2.96944330e+00],\n",
       "       [-6.31978288e-01],\n",
       "       [-2.75284144e-03],\n",
       "       [ 1.00000000e+00]])"
      ]
     },
     "execution_count": 237,
     "metadata": {},
     "output_type": "execute_result"
    }
   ],
   "source": [
    "lcg"
   ]
  },
  {
   "cell_type": "code",
   "execution_count": 238,
   "metadata": {},
   "outputs": [
    {
     "data": {
      "text/plain": [
       "(1.6, -0.2383513041904995, -0.0)"
      ]
     },
     "execution_count": 238,
     "metadata": {},
     "output_type": "execute_result"
    }
   ],
   "source": [
    "x[5]"
   ]
  },
  {
   "cell_type": "code",
   "execution_count": 239,
   "metadata": {},
   "outputs": [
    {
     "ename": "NameError",
     "evalue": "name 'y' is not defined",
     "output_type": "error",
     "traceback": [
      "\u001b[0;31m---------------------------------------------------------------------------\u001b[0m",
      "\u001b[0;31mNameError\u001b[0m                                 Traceback (most recent call last)",
      "Cell \u001b[0;32mIn[239], line 2\u001b[0m\n\u001b[1;32m      1\u001b[0m \u001b[39mimport\u001b[39;00m \u001b[39mnumpy\u001b[39;00m \u001b[39mas\u001b[39;00m \u001b[39mnp\u001b[39;00m\n\u001b[0;32m----> 2\u001b[0m p \u001b[39m=\u001b[39m np\u001b[39m.\u001b[39marray(y[\u001b[39m3\u001b[39m])\n",
      "\u001b[0;31mNameError\u001b[0m: name 'y' is not defined"
     ]
    }
   ],
   "source": [
    "import numpy as np\n",
    "p = np.array(y[3])"
   ]
  },
  {
   "cell_type": "code",
   "execution_count": 240,
   "metadata": {},
   "outputs": [
    {
     "data": {
      "text/plain": [
       "(2,)"
      ]
     },
     "execution_count": 240,
     "metadata": {},
     "output_type": "execute_result"
    }
   ],
   "source": [
    "p.shape"
   ]
  },
  {
   "cell_type": "code",
   "execution_count": 16,
   "metadata": {},
   "outputs": [],
   "source": [
    "import open3d as o3d\n",
    "pcd = o3d.geometry.PointCloud()\n",
    "pcd.points = o3d.utility.Vector3dVector(p)"
   ]
  },
  {
   "cell_type": "code",
   "execution_count": 17,
   "metadata": {},
   "outputs": [],
   "source": [
    "o3d.visualization.draw_geometries([pcd])"
   ]
  },
  {
   "cell_type": "code",
   "execution_count": 19,
   "metadata": {},
   "outputs": [
    {
     "ename": "ImportError",
     "evalue": "cannot import name 'JVisualizer' from 'open3d' (/home/ranjan/anaconda3/envs/mlp/lib/python3.10/site-packages/open3d/__init__.py)",
     "output_type": "error",
     "traceback": [
      "\u001b[0;31m---------------------------------------------------------------------------\u001b[0m",
      "\u001b[0;31mImportError\u001b[0m                               Traceback (most recent call last)",
      "Cell \u001b[0;32mIn[19], line 1\u001b[0m\n\u001b[0;32m----> 1\u001b[0m \u001b[39mfrom\u001b[39;00m \u001b[39mopen3d\u001b[39;00m \u001b[39mimport\u001b[39;00m JVisualizer\n",
      "\u001b[0;31mImportError\u001b[0m: cannot import name 'JVisualizer' from 'open3d' (/home/ranjan/anaconda3/envs/mlp/lib/python3.10/site-packages/open3d/__init__.py)"
     ]
    }
   ],
   "source": [
    "from open3d import JVisualizer"
   ]
  },
  {
   "cell_type": "code",
   "execution_count": 58,
   "metadata": {},
   "outputs": [
    {
     "data": {
      "text/plain": [
       "array([0.2442262 , 0.31631052, 0.39115849, ..., 0.36959362, 0.10310185,\n",
       "       0.17326561])"
      ]
     },
     "execution_count": 58,
     "metadata": {},
     "output_type": "execute_result"
    }
   ],
   "source": [
    "y[1,:,2]"
   ]
  },
  {
   "cell_type": "code",
   "execution_count": 1,
   "metadata": {},
   "outputs": [
    {
     "ename": "NameError",
     "evalue": "name 'x' is not defined",
     "output_type": "error",
     "traceback": [
      "\u001b[0;31m---------------------------------------------------------------------------\u001b[0m",
      "\u001b[0;31mNameError\u001b[0m                                 Traceback (most recent call last)",
      "Cell \u001b[0;32mIn[1], line 1\u001b[0m\n\u001b[0;32m----> 1\u001b[0m x\n",
      "\u001b[0;31mNameError\u001b[0m: name 'x' is not defined"
     ]
    }
   ],
   "source": [
    "x"
   ]
  },
  {
   "cell_type": "code",
   "execution_count": 63,
   "metadata": {},
   "outputs": [],
   "source": [
    "import numpy as np\n",
    "import torch\n",
    "import torch.nn as nn\n",
    "\n",
    "\n",
    "def scale_min_max(points,min_val=0, max_val=6):    \n",
    "\n",
    "    x = np.expand_dims(np.array(points[:,0]), axis=1)    \n",
    "    y = np.expand_dims(np.array(points[:,1]), axis=1)\n",
    "    z = np.expand_dims(np.array(points[:,2]), axis=1)\n",
    "\n",
    "    x = np.interp(x,(-1, 5), (min_val, max_val))\n",
    "    y = np.interp(y,(-3, 3), (min_val, max_val))\n",
    "\n",
    "    return np.concatenate([x,y,z], axis=1)\n",
    "\n",
    "\n",
    "\n",
    "def get_voxelized_points(points_array):\n",
    "    # Define the grid dimensions\n",
    "    grid_size = 122  # Adjust based on your requirements\n",
    "\n",
    "    # Create an empty voxel grid\n",
    "    voxel_grid = np.zeros((142, grid_size, 42))    \n",
    "\n",
    "    # Calculate the voxel size based on the grid dimensions\n",
    "    voxel_size = 0.05\n",
    "\n",
    "    if points_array.shape[0] == 0:\n",
    "        input_tensor = torch.tensor(voxel_grid, dtype=torch.float32)\n",
    "        input_tensor = input_tensor.unsqueeze(0)\n",
    "        # print(f'returned_zeroed_array {input_tensor.shape}')\n",
    "        return input_tensor\n",
    "\n",
    "    # scale coordinate value\n",
    "    points_array = scale_min_max(points_array)\n",
    "    \n",
    "\n",
    "    # Map points to the voxel grid\n",
    "    grid_indices = np.floor(points_array / voxel_size).astype(int)\n",
    "    grid_indices = np.clip(grid_indices, 0, grid_size - 1)\n",
    "\n",
    "    unique_indices, counts = np.unique(grid_indices, return_counts=True, axis=0)\n",
    "\n",
    "    voxel_grid[unique_indices[:, 0], unique_indices[:, 1], unique_indices[:, 2]] = counts\n",
    "\n",
    "    # Convert the voxel grid to a PyTorch tensor\n",
    "    input_tensor = torch.tensor(voxel_grid, dtype=torch.float32)\n",
    "    input_tensor = input_tensor.unsqueeze(0)  # Add batch and channel dimensions\n",
    "\n",
    "    return input_tensor"
   ]
  },
  {
   "cell_type": "code",
   "execution_count": 11,
   "metadata": {},
   "outputs": [],
   "source": []
  },
  {
   "cell_type": "code",
   "execution_count": 13,
   "metadata": {},
   "outputs": [
    {
     "data": {
      "text/plain": [
       "(2000, 3)"
      ]
     },
     "execution_count": 13,
     "metadata": {},
     "output_type": "execute_result"
    }
   ],
   "source": [
    "x.shape"
   ]
  },
  {
   "cell_type": "code",
   "execution_count": 14,
   "metadata": {},
   "outputs": [
    {
     "data": {
      "text/plain": [
       "array([0.61073304, 0.65121455, 0.47544591])"
      ]
     },
     "execution_count": 14,
     "metadata": {},
     "output_type": "execute_result"
    }
   ],
   "source": [
    "x[0]"
   ]
  },
  {
   "cell_type": "code",
   "execution_count": 102,
   "metadata": {},
   "outputs": [],
   "source": [
    "import numpy as np\n",
    "import torch\n",
    "import torch.nn as nn\n",
    "\n",
    "def scale_min_max(points,min_val=0, max_val=6):    \n",
    "\n",
    "    x = np.expand_dims(np.array(points[:,0]), axis=1)    \n",
    "    y = np.expand_dims(np.array(points[:,1]), axis=1)\n",
    "    z = np.expand_dims(np.array(points[:,2]), axis=1)\n",
    "\n",
    "    x = np.interp(x,(-7, 8), (min_val, 8))\n",
    "    y = np.interp(y,(-3, 3), (min_val, max_val))\n",
    "\n",
    "    return np.concatenate([x,y,z], axis=1)\n",
    "\n",
    "\n",
    "\n",
    "def get_voxelized_points(points_array):\n",
    "\n",
    "    print(np.max(points_array, axis=0))\n",
    "    # Define the grid dimensions\n",
    "    grid_size = 122  # Adjust based on your requirements\n",
    "\n",
    "    # Calculate the voxel size based on the grid dimensions\n",
    "    voxel_size = 0.05\n",
    "\n",
    "    # scale coordinate value\n",
    "    points_array = scale_min_max(points_array)\n",
    "    print(np.max(points_array, axis=0))\n",
    "    # Create an empty voxel grid\n",
    "    voxel_grid = np.zeros((162, grid_size, 42))\n",
    "\n",
    "    # Map points to the voxel grid\n",
    "    grid_indices = np.floor(points_array / voxel_size).astype(int)\n",
    "    \n",
    "    print(np.max(grid_indices, axis=0))\n",
    "\n",
    "    grid_indices = np.clip(grid_indices, np.array([0,0,0]), np.array([161,121,41]))\n",
    "\n",
    "    print(np.max(grid_indices, axis=0))\n",
    "\n",
    "    voxel_grid[grid_indices[:, 0], grid_indices[:, 1], grid_indices[:, 2]] = voxel_grid[grid_indices[:, 0], grid_indices[:, 1], grid_indices[:, 2]] + 1\n",
    "\n",
    "    # Convert the voxel grid to a PyTorch tensor\n",
    "    input_tensor = torch.tensor(voxel_grid, dtype=torch.float32)\n",
    "    input_tensor = input_tensor.unsqueeze(0)  # Add batch and channel dimensions\n",
    "\n",
    "    return input_tensor "
   ]
  },
  {
   "cell_type": "code",
   "execution_count": 104,
   "metadata": {},
   "outputs": [
    {
     "name": "stdout",
     "output_type": "stream",
     "text": [
      "[8 8 8]\n",
      "[8. 6. 8.]\n",
      "[160 120 160]\n",
      "[160 120  41]\n"
     ]
    }
   ],
   "source": [
    "pts = np.random.randint(size=(100,3), low=0, high=9)\n",
    "voxelized_points = get_voxelized_points(pts)"
   ]
  },
  {
   "cell_type": "code",
   "execution_count": 69,
   "metadata": {},
   "outputs": [
    {
     "data": {
      "text/plain": [
       "torch.Size([1, 142, 122, 42])"
      ]
     },
     "execution_count": 69,
     "metadata": {},
     "output_type": "execute_result"
    }
   ],
   "source": [
    "voxelized_points.shape"
   ]
  },
  {
   "cell_type": "code",
   "execution_count": 23,
   "metadata": {},
   "outputs": [],
   "source": [
    " \n",
    "common = nn.Sequential(\n",
    "    nn.Conv3d(in_channels=1, out_channels=8, kernel_size=3, stride=1),\n",
    "    nn.LeakyReLU(),\n",
    "    nn.Conv3d(in_channels=8, out_channels=12, kernel_size=3, stride=1),\n",
    "    nn.LeakyReLU(),   \n",
    "    nn.MaxPool3d(3, stride=2)                   \n",
    "    )\n",
    "\n",
    "ft1 = nn.Sequential(\n",
    "    nn.Conv3d(in_channels=12, out_channels=16, kernel_size=3, stride=1),\n",
    "    nn.LeakyReLU(),\n",
    "    nn.MaxPool3d(3, stride=2)\n",
    ")\n",
    "\n",
    "ft2 = nn.Sequential(\n",
    "    nn.Conv3d(in_channels=16, out_channels=32, kernel_size=5, stride=1),\n",
    "    nn.LeakyReLU(),\n",
    "    nn.MaxPool3d(3, stride=2)\n",
    ")\n",
    "\n",
    "ft3 = nn.Sequential(\n",
    "    nn.Conv3d(in_channels=32, out_channels=48, kernel_size=1, stride=1),\n",
    "    nn.LeakyReLU(),    \n",
    ")   "
   ]
  },
  {
   "cell_type": "code",
   "execution_count": 24,
   "metadata": {},
   "outputs": [
    {
     "data": {
      "text/plain": [
       "torch.Size([2, 27, 27, 27])"
      ]
     },
     "execution_count": 24,
     "metadata": {},
     "output_type": "execute_result"
    }
   ],
   "source": [
    "x = np.random.rand(2000, 3)\n",
    "x = get_voxelized_points(x)\n",
    "x = common(x)\n",
    "x.shape"
   ]
  },
  {
   "cell_type": "code",
   "execution_count": 25,
   "metadata": {},
   "outputs": [
    {
     "data": {
      "text/plain": [
       "torch.Size([2, 12, 12, 12])"
      ]
     },
     "execution_count": 25,
     "metadata": {},
     "output_type": "execute_result"
    }
   ],
   "source": [
    "x = ft1(x)\n",
    "x.shape"
   ]
  },
  {
   "cell_type": "code",
   "execution_count": 26,
   "metadata": {},
   "outputs": [
    {
     "data": {
      "text/plain": [
       "torch.Size([4, 10, 10, 10])"
      ]
     },
     "execution_count": 26,
     "metadata": {},
     "output_type": "execute_result"
    }
   ],
   "source": [
    "x = ft2(x)\n",
    "x.shape"
   ]
  },
  {
   "cell_type": "code",
   "execution_count": 151,
   "metadata": {},
   "outputs": [
    {
     "data": {
      "text/plain": [
       "torch.Size([48, 11, 11, 11])"
      ]
     },
     "execution_count": 151,
     "metadata": {},
     "output_type": "execute_result"
    }
   ],
   "source": [
    "x= ft3(x)\n",
    "x.shape"
   ]
  },
  {
   "cell_type": "code",
   "execution_count": null,
   "metadata": {},
   "outputs": [],
   "source": []
  },
  {
   "cell_type": "code",
   "execution_count": 217,
   "metadata": {},
   "outputs": [],
   "source": [
    "def get_gaussian_weights(mean, std_dev):\n",
    "\n",
    "    domain = np.array([i for i in range(0,12)])\n",
    "\n",
    "    range_values = (1 / (std_dev * np.sqrt(2 * np.pi))) * np.exp(-0.5 * ((domain - mean) / std_dev)**2)\n",
    "    \n",
    "    round_weights = np.floor(range_values*1000) + 100\n",
    "    reshapeed_weights  = np.expand_dims(round_weights, axis=0)\n",
    "    \n",
    "    return  reshapeed_weights"
   ]
  },
  {
   "cell_type": "code",
   "execution_count": 224,
   "metadata": {},
   "outputs": [
    {
     "name": "stdout",
     "output_type": "stream",
     "text": [
      "Value at x = 0 is 0.02590351913317835\n",
      "Value at x = 1 is 0.03427371840956147\n",
      "Value at x = 2 is 0.043570435406510115\n",
      "Value at x = 3 is 0.05321704997975097\n",
      "Value at x = 4 is 0.06245078667335226\n",
      "Value at x = 5 is 0.0704130653528599\n",
      "Value at x = 6 is 0.07627756309210483\n",
      "Value at x = 7 is 0.07939050949540237\n",
      "Value at x = 8 is 0.07939050949540237\n",
      "Value at x = 9 is 0.07627756309210483\n",
      "Value at x = 10 is 0.0704130653528599\n",
      "Value at x = 11 is 0.06245078667335226\n",
      "Value at x = 12 is 0.05321704997975097\n"
     ]
    },
    {
     "data": {
      "image/png": "[encoded data removed]",
      "text/plain": [
       "<Figure size 640x480 with 1 Axes>"
      ]
     },
     "metadata": {},
     "output_type": "display_data"
    }
   ],
   "source": [
    "import numpy as np\n",
    "import matplotlib.pyplot as plt\n",
    "\n",
    "# Define the mean and standard deviation of the Gaussian distribution\n",
    "mean = 7.5\n",
    "std_dev = 5\n",
    "\n",
    "# Generate data points for x-axis (higher resolution)\n",
    "x = np.linspace(0, 15, 1000)\n",
    "y = np.array([i for i in range(0,13)])\n",
    "\n",
    "# Calculate the corresponding probabilities for each data point (PDF)\n",
    "pdf = (1 / (std_dev * np.sqrt(2 * np.pi))) * np.exp(-0.5 * ((x - mean) / std_dev)**2)\n",
    "pdf2 = (1 / (std_dev * np.sqrt(2 * np.pi))) * np.exp(-0.5 * ((y - mean) / std_dev)**2)\n",
    "# Output the values at integer points\n",
    "\n",
    "for i in range(len(y)):    \n",
    "    print(\"Value at x =\", i, \"is\", pdf2[i])\n",
    "\n",
    "# Plot the Gaussian distribution\n",
    "plt.plot(x, pdf, label='Gaussian Distribution')\n",
    "plt.xlabel('x')\n",
    "plt.ylabel('Probability Density')\n",
    "plt.title('Gaussian Distribution with Mean = {} and Standard Deviation = {}'.format(mean, std_dev))\n",
    "plt.legend()\n",
    "plt.grid(True)\n",
    "plt.show()\n"
   ]
  },
  {
   "cell_type": "code",
   "execution_count": 225,
   "metadata": {},
   "outputs": [],
   "source": [
    "rv = get_gaussian_weights(7.5,5)"
   ]
  },
  {
   "cell_type": "code",
   "execution_count": null,
   "metadata": {},
   "outputs": [],
   "source": []
  },
  {
   "cell_type": "code",
   "execution_count": 226,
   "metadata": {},
   "outputs": [],
   "source": [
    "x = np.ones((3,12))"
   ]
  },
  {
   "cell_type": "code",
   "execution_count": 227,
   "metadata": {},
   "outputs": [
    {
     "data": {
      "text/plain": [
       "array([[1., 1., 1., 1., 1., 1., 1., 1., 1., 1., 1., 1.],\n",
       "       [1., 1., 1., 1., 1., 1., 1., 1., 1., 1., 1., 1.],\n",
       "       [1., 1., 1., 1., 1., 1., 1., 1., 1., 1., 1., 1.]])"
      ]
     },
     "execution_count": 227,
     "metadata": {},
     "output_type": "execute_result"
    }
   ],
   "source": [
    "x "
   ]
  },
  {
   "cell_type": "code",
   "execution_count": 228,
   "metadata": {},
   "outputs": [
    {
     "data": {
      "text/plain": [
       "(1, 12)"
      ]
     },
     "execution_count": 228,
     "metadata": {},
     "output_type": "execute_result"
    }
   ],
   "source": [
    "rv.shape"
   ]
  },
  {
   "cell_type": "code",
   "execution_count": 229,
   "metadata": {},
   "outputs": [
    {
     "data": {
      "text/plain": [
       "array([[125., 134., 143., 153., 162., 170., 176., 179., 179., 176., 170.,\n",
       "        162.],\n",
       "       [125., 134., 143., 153., 162., 170., 176., 179., 179., 176., 170.,\n",
       "        162.],\n",
       "       [125., 134., 143., 153., 162., 170., 176., 179., 179., 176., 170.,\n",
       "        162.]])"
      ]
     },
     "execution_count": 229,
     "metadata": {},
     "output_type": "execute_result"
    }
   ],
   "source": [
    "x * rv"
   ]
  },
  {
   "cell_type": "code",
   "execution_count": 230,
   "metadata": {},
   "outputs": [
    {
     "data": {
      "text/plain": [
       "array([[125., 134., 143., 153., 162., 170., 176., 179., 179., 176., 170.,\n",
       "        162.],\n",
       "       [125., 134., 143., 153., 162., 170., 176., 179., 179., 176., 170.,\n",
       "        162.],\n",
       "       [125., 134., 143., 153., 162., 170., 176., 179., 179., 176., 170.,\n",
       "        162.]])"
      ]
     },
     "execution_count": 230,
     "metadata": {},
     "output_type": "execute_result"
    }
   ],
   "source": [
    "x * rv"
   ]
  },
  {
   "cell_type": "code",
   "execution_count": null,
   "metadata": {},
   "outputs": [],
   "source": []
  }
 ],
 "metadata": {
  "kernelspec": {
   "display_name": "mlp",
   "language": "python",
   "name": "python3"
  },
  "language_info": {
   "codemirror_mode": {
    "name": "ipython",
    "version": 3
   },
   "file_extension": ".py",
   "mimetype": "text/x-python",
   "name": "python",
   "nbconvert_exporter": "python",
   "pygments_lexer": "ipython3",
   "version": "3.6.8"
  },
  "orig_nbformat": 4
 },
 "nbformat": 4,
 "nbformat_minor": 2
}
