{
 "cells": [
  {
   "cell_type": "code",
   "execution_count": 2,
   "metadata": {},
   "outputs": [],
   "source": [
    "import pickle\n",
    "import numpy as np\n",
    "import cv2\n",
    "import matplotlib.pyplot as plt\n",
    "import torch\n",
    "import logging"
   ]
  },
  {
   "cell_type": "code",
   "execution_count": null,
   "metadata": {},
   "outputs": [],
   "source": [
    "\n",
    "pickle_path = '../recorded-data/train/135968/snapshot.pickle'\n",
    "with open(pickle_path, 'rb') as data:\n",
    "        content = pickle.load(data)\n",
    "        print(int(len(content.keys()) / 4))"
   ]
  },
  {
   "cell_type": "code",
   "execution_count": 24,
   "metadata": {},
   "outputs": [
    {
     "name": "stderr",
     "output_type": "stream",
     "text": [
      "2023-04-30 17:37:07 BhabaranjansMBP.eduroam.gmu.edu root[34997] INFO Parsing pickle file...\n",
      "2023-04-30 17:37:26 BhabaranjansMBP.eduroam.gmu.edu root[34997] INFO Picklefile loaded\n"
     ]
    }
   ],
   "source": [
    "import pickle\n",
    "import coloredlogs, logging\n",
    "import os\n",
    "\n",
    "from torch.utils.data import Dataset\n",
    "coloredlogs.install()\n",
    "\n",
    "class IndexDataset:\n",
    "\n",
    "    def __init__(self, dir_path):        \n",
    "        self.root_path = dir_path\n",
    "        self.pickle_path = os.path.join(dir_path , 'snapshot.pickle')        \n",
    "        \n",
    "        logging.info('Parsing pickle file...')\n",
    "    \n",
    "        with open(self.pickle_path, 'rb') as data:\n",
    "            self.content = pickle.load(data)\n",
    "\n",
    "        logging.info('Picklefile loaded')\n",
    "\n",
    "        # Exclude keys that does not have a local goal [as the robot did not travel 10 meters]\n",
    "        keys = list(self.content.keys())\n",
    "        for key in keys:\n",
    "            if 'local_goal' not in self.content[key].keys():\n",
    "                self.content.pop(key)\n",
    "\n",
    "    def __len__(self):\n",
    "        # Excluding last 2 minutes of recording may not have local_goal\n",
    "        # Snapshot is taken at 2 frames per second\n",
    "\n",
    "        return int(len(self.content.keys()) / 4)\n",
    "    \n",
    "    def __getitem__(self, offset_index) :\n",
    "        # We are taking 4 sequential images, point clouds each time to account for temporal variation\n",
    "        start_index = offset_index * 4\n",
    "        end_index = start_index + 3\n",
    "\n",
    "        # Get data from respective index\n",
    "        prev_cmd_vel = self.content[end_index]['prev_cmd_vel']\n",
    "        gt_cmd_vel = self.content[end_index]['gt_cmd_vel']\n",
    "        local_goal = self.content[end_index]['local_goal']\n",
    "        robot_position = self.content[end_index]['robot_position']\n",
    "        \n",
    "        # Image paths\n",
    "        image_paths = [ os.path.join(self.root_path, str(i)+'.jpg') for i in range(start_index, end_index+1) ]\n",
    "        \n",
    "        # only keep points that are under 5 + 1 (delta) meters from the robot\n",
    "        point_clouds = []\n",
    "        total_length = 0\n",
    "        for point_snapshot in range(start_index, end_index+1):\n",
    "            filtered_points = []\n",
    "            for point in self.content[point_snapshot]['point_cloud']:\n",
    "                if (point[0]**2 + point[1]**2 + point[2]**2) <= 26:\n",
    "                    filtered_points.append(point)\n",
    "            print(\"from indexer:\",len(filtered_points))                                        \n",
    "            point_clouds.append(filtered_points[:7000])        \n",
    "\n",
    "        return (image_paths, point_clouds, local_goal, prev_cmd_vel, robot_position, gt_cmd_vel)\n",
    "\n",
    "        \n",
    "\n",
    "indexer = IndexDataset('/Users/bhabaranjanpanigrahi/Research/Code/fusion-network/recorded-data/136021.bag')\n",
    "# print(object.__len__())"
   ]
  },
  {
   "cell_type": "code",
   "execution_count": 26,
   "metadata": {},
   "outputs": [],
   "source": [
    "import torch\n",
    "from torchvision import transforms\n",
    "import pickle\n",
    "import numpy as np\n",
    "import coloredlogs, logging\n",
    "import os\n",
    "import cv2\n",
    "\n",
    "from torch.utils.data import Dataset\n",
    "from scipy.spatial.transform import Rotation as R\n",
    "\n",
    "coloredlogs.install()\n",
    "\n",
    "def read_images(path):\n",
    "    # print(f\"{path = }\")\n",
    "    image = cv2.imread(path)\n",
    "    # Will have to do some re-sizing\n",
    "    return cv2.cvtColor(image, cv2.COLOR_BGR2RGB)\n",
    "\n",
    "def get_transformation_matrix(position, quaternion):\n",
    "    theta = R.from_quat([quaternion.x, quaternion.y, quaternion.z, quaternion.w]).as_euler('XYZ')[2]\n",
    "    robo_coordinate_in_glob_frame  = np.array([[np.cos(theta), -np.sin(theta), position.x],\n",
    "                    [np.sin(theta), np.cos(theta), position.y],\n",
    "                    [0, 0, 1]])\n",
    "    return robo_coordinate_in_glob_frame\n",
    "\n",
    "def cart2polar(xyz):\n",
    "    r = np.sqrt(xyz[:, 0] ** 2 + xyz[:, 1] ** 2)\n",
    "    theta =  np.arctan2(xyz[:, 1], xyz[:, 0])\n",
    "    return np.stack((r,theta, xyz[:,2]), axis=1)\n",
    "\n",
    "\n",
    "class ApplyTransformation(Dataset):\n",
    "    def __init__(self, input_data, grid_size = [72, 30, 30]):\n",
    "        self.grid_size = np.asarray(grid_size)  \n",
    "        self.input_data = input_data    \n",
    "        self.image_transforms = transforms.Compose([\n",
    "                    transforms.ToTensor(),\n",
    "                    transforms.Resize((224,224),antialias=True),\n",
    "                    # transforms.Normalize(mean=[0.485, 0.456, 0.406],  # ImageNet mean hardcoded\n",
    "                    #                       std=[0.229, 0.224, 0.225])  # ImageNet std hardcoded\n",
    "            ])\n",
    "    \n",
    "    def __len__(self):\n",
    "         # TODO: this will return 1 example set with the following details\n",
    "        return len(self.input_data)\n",
    "\n",
    "    def __getitem__(self, index):\n",
    "        # Transform images\n",
    "        data = self.input_data[index]\n",
    "        self.image_paths = data[0]\n",
    "        self.point_clouds = data[1]\n",
    "        self.local_goal = data[2]\n",
    "        self.prev_cmd_vel = data[3]        \n",
    "        self.robot_position  = data[4]\n",
    "        self.gt_cmd_vel = data[5]\n",
    "        \n",
    "\n",
    "        images = [ self.image_transforms(read_images(path)) for path in self.image_paths]\n",
    "        stacked_images = torch.cat(images, dim=0)\n",
    "        \n",
    "        # Transform local goal into robot frame\n",
    "        robot_coordinate_in_glob_frame = get_transformation_matrix(self.robot_position[0],self.robot_position[1])\n",
    "        transform_to_robot_coordinate =   np.linalg.pinv(robot_coordinate_in_glob_frame)\n",
    "\n",
    "        local_goal_in_robot_frame = transform_to_robot_coordinate @ np.asanyarray([self.local_goal[0], self.local_goal[1],1]).reshape((3,1))\t\n",
    "        local_goal = (local_goal_in_robot_frame[0,0], local_goal_in_robot_frame[1,0])\n",
    "\n",
    "        # Transform point-clouds to 3D-Cylider co-ordinate system\n",
    "        point_clouds = np.concatenate(self.point_clouds, axis=0)   \n",
    "\n",
    "        # TODO: subsample the point clouds to keep a fixed number of points across frames\n",
    "        xyz_polar = cart2polar(point_clouds)\n",
    "\n",
    "        max_bound_r = np.percentile(xyz_polar[:, 0], 100, axis=0)\n",
    "        min_bound_r = np.percentile(xyz_polar[:, 0], 0, axis=0)\n",
    "\n",
    "        max_bound = np.max(xyz_polar[:, 1:], axis=0)\n",
    "        min_bound = np.min(xyz_polar[:, 1:], axis=0)\n",
    "\n",
    "        max_bound = np.concatenate(([max_bound_r],max_bound))\n",
    "        min_bound = np.concatenate(([min_bound_r], min_bound))\n",
    "\n",
    "        range_to_crop = max_bound - min_bound\n",
    "        cur_grid_size = (self.grid_size - 1)\n",
    "        intervals = range_to_crop / cur_grid_size\n",
    "\n",
    "        if (intervals == 0).any(): print(\"Zero interval!\")\n",
    "        grid_index = (np.floor(( np.clip(xyz_polar, min_bound, max_bound) - min_bound) / intervals)).astype(int)\n",
    "        \n",
    "        # Center data around each voxel for PTnet\n",
    "        voxel_centers = (grid_index.astype(np.float32) + 0.5) * intervals + min_bound\n",
    "        return_xyz = xyz_polar - voxel_centers\n",
    "        transformed_pcl = np.concatenate((return_xyz, xyz_polar, point_clouds[:, :2]), axis=1)\n",
    "\n",
    "         \n",
    "\n",
    "        local_goal = torch.tensor(local_goal, dtype=torch.float32).ravel()\n",
    "        local_goal = (local_goal - local_goal.min()) / (local_goal.max() - local_goal.min())\n",
    "\n",
    "        prev_cmd_vel = torch.tensor(self.prev_cmd_vel, dtype=torch.float32).ravel()\n",
    "        gt_cmd_vel = torch.tensor(self.gt_cmd_vel, dtype=torch.float32).ravel()\n",
    "\n",
    "\n",
    "        return (stacked_images, torch.tensor(grid_index), torch.tensor(transformed_pcl), local_goal, prev_cmd_vel, gt_cmd_vel)"
   ]
  },
  {
   "cell_type": "code",
   "execution_count": 27,
   "metadata": {},
   "outputs": [
    {
     "name": "stdout",
     "output_type": "stream",
     "text": [
      "from indexer: 7295\n",
      "from indexer: 7188\n",
      "from indexer: 7172\n",
      "from indexer: 7614\n",
      "called indxer 1\n",
      "called indxer 2\n",
      "called indxer 3\n",
      "called indxer 4\n",
      "called indxer 5\n",
      "called indxer 6\n",
      "data[2].shape = torch.Size([28000, 8])\n"
     ]
    }
   ],
   "source": [
    "data = next(iter(ApplyTransformation(indexer)))\n",
    "print(f\"{data[2].shape = }\")"
   ]
  },
  {
   "cell_type": "code",
   "execution_count": 90,
   "metadata": {},
   "outputs": [
    {
     "data": {
      "text/plain": [
       "torch.Size([29269, 8])"
      ]
     },
     "execution_count": 90,
     "metadata": {},
     "output_type": "execute_result"
    }
   ],
   "source": [
    "x[2].shape"
   ]
  },
  {
   "cell_type": "code",
   "execution_count": 38,
   "metadata": {},
   "outputs": [],
   "source": [
    "y = x[1][1]\n",
    "c = []\n",
    "c.append(y)\n",
    "c.append(y)\n",
    "c.append(y)\n",
    "d = torch.tensor(c)"
   ]
  },
  {
   "cell_type": "code",
   "execution_count": 39,
   "metadata": {},
   "outputs": [
    {
     "data": {
      "text/plain": [
       "torch.Size([3, 29269, 8])"
      ]
     },
     "execution_count": 39,
     "metadata": {},
     "output_type": "execute_result"
    }
   ],
   "source": [
    "d.shape"
   ]
  },
  {
   "cell_type": "code",
   "execution_count": 40,
   "metadata": {},
   "outputs": [],
   "source": [
    "x = [torch.from_numpy(i) for i in c]"
   ]
  },
  {
   "cell_type": "code",
   "execution_count": 52,
   "metadata": {},
   "outputs": [],
   "source": [
    "l = x[0]"
   ]
  },
  {
   "cell_type": "code",
   "execution_count": 56,
   "metadata": {},
   "outputs": [
    {
     "data": {
      "text/plain": [
       "torch.Size([29269, 8])"
      ]
     },
     "execution_count": 56,
     "metadata": {},
     "output_type": "execute_result"
    }
   ],
   "source": [
    "l.shape"
   ]
  },
  {
   "cell_type": "code",
   "execution_count": 51,
   "metadata": {},
   "outputs": [],
   "source": [
    "import torch.nn.functional as F\n",
    "d = np.ones((100,8))\n"
   ]
  },
  {
   "cell_type": "code",
   "execution_count": 57,
   "metadata": {},
   "outputs": [],
   "source": [
    "\n",
    "k = F.pad(l, (1, 0), 'constant', value=7)"
   ]
  },
  {
   "cell_type": "code",
   "execution_count": 60,
   "metadata": {},
   "outputs": [
    {
     "data": {
      "text/plain": [
       "tensor([ 7.0000e+00,  9.1713e-03,  8.8107e-03, -3.8865e-03,  3.0948e+00,\n",
       "        -1.7204e+00, -8.2926e-01, -4.6118e-01, -3.0603e+00],\n",
       "       dtype=torch.float64)"
      ]
     },
     "execution_count": 60,
     "metadata": {},
     "output_type": "execute_result"
    }
   ],
   "source": [
    "k[0]"
   ]
  },
  {
   "cell_type": "code",
   "execution_count": 14,
   "metadata": {},
   "outputs": [
    {
     "data": {
      "image/png": "[encoded data removed]",
      "text/plain": [
       "<Figure size 640x480 with 1 Axes>"
      ]
     },
     "metadata": {},
     "output_type": "display_data"
    }
   ],
   "source": [
    "import matplotlib.pyplot as plt\n",
    "\n",
    "# Create x and y data\n",
    "x = [i for i in range(10)]\n",
    "y = [1.1454883813858032, 0.7548354268074036, 0.42827606201171875, 0.12355022132396698, 0.10271172225475311, 0.23359526693820953, 0.15651413798332214, 0.049618806689977646, 0.06286948174238205, 0.057311490178108215]\n",
    "\n",
    "# Plot the graph\n",
    "plt.plot(x, y, '-o')\n",
    "plt.xlabel('Step')\n",
    "plt.ylabel('Error')\n",
    "plt.title('Error vs. Step')\n",
    "plt.show()"
   ]
  },
  {
   "cell_type": "code",
   "execution_count": null,
   "metadata": {},
   "outputs": [],
   "source": []
  }
 ],
 "metadata": {
  "kernelspec": {
   "display_name": "mlp",
   "language": "python",
   "name": "python3"
  },
  "language_info": {
   "codemirror_mode": {
    "name": "ipython",
    "version": 3
   },
   "file_extension": ".py",
   "mimetype": "text/x-python",
   "name": "python",
   "nbconvert_exporter": "python",
   "pygments_lexer": "ipython3",
   "version": "3.10.11"
  },
  "orig_nbformat": 4
 },
 "nbformat": 4,
 "nbformat_minor": 2
}
